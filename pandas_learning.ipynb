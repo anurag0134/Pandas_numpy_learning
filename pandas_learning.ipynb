{
 "cells": [
  {
   "cell_type": "markdown",
   "id": "607319eb",
   "metadata": {},
   "source": [
    "# Pandas / Panel Data\n",
    "\n",
    "Pandas is python library used for working with datasets. It allows us to analyze big data and make conclusions based on statistical theories. It has functions for analyzing, cleaning, exploring, and manipulating data.\n",
    "\n",
    "\n",
    "## Series in Pandas\n",
    "\n",
    "A pandas series is like a column in a table. It is a one-dimensional array holding data of any type."
   ]
  },
  {
   "cell_type": "code",
   "execution_count": 3,
   "id": "254172c4",
   "metadata": {},
   "outputs": [
    {
     "name": "stdout",
     "output_type": "stream",
     "text": [
      "0    1\n",
      "1    5\n",
      "2    4\n",
      "dtype: int64\n"
     ]
    }
   ],
   "source": [
    "# create simple Pandas series\n",
    "\n",
    "import pandas as pd\n",
    "\n",
    "a = [1, 5, 4]\n",
    "\n",
    "myvar = pd.Series(a)\n",
    "print(myvar)"
   ]
  },
  {
   "cell_type": "code",
   "execution_count": 4,
   "id": "98f63c56",
   "metadata": {},
   "outputs": [
    {
     "name": "stdout",
     "output_type": "stream",
     "text": [
      "1\n"
     ]
    }
   ],
   "source": [
    "# If labels is not specifies, the values are labeled with their index number. first value has index 0,and so on.\n",
    "print(myvar[0])"
   ]
  },
  {
   "cell_type": "markdown",
   "id": "683c9408",
   "metadata": {},
   "source": [
    "## Creating Lables\n",
    "\n",
    "### With the index argument, we can name our own labels.\n"
   ]
  },
  {
   "cell_type": "code",
   "execution_count": 5,
   "id": "bc9fe862",
   "metadata": {},
   "outputs": [
    {
     "name": "stdout",
     "output_type": "stream",
     "text": [
      "x    1\n",
      "y    5\n",
      "z    4\n",
      "dtype: int64\n"
     ]
    }
   ],
   "source": [
    "import pandas as pd\n",
    "\n",
    "a = [1, 5, 4]\n",
    "\n",
    "myvar = pd.Series(a, index = ['x', 'y', 'z'])\n",
    "\n",
    "print(myvar)"
   ]
  },
  {
   "cell_type": "code",
   "execution_count": 6,
   "id": "ea1f4b2c",
   "metadata": {},
   "outputs": [
    {
     "name": "stdout",
     "output_type": "stream",
     "text": [
      "5\n"
     ]
    }
   ],
   "source": [
    "# When labels created we can access items by regerring labels\n",
    "print(myvar['y'])"
   ]
  },
  {
   "cell_type": "markdown",
   "id": "6b2070d1",
   "metadata": {},
   "source": [
    "## Key/Value Objects as Series\n",
    "\n",
    "We can also use a key/value object, like a dictionary, when creating a Series."
   ]
  },
  {
   "cell_type": "code",
   "execution_count": 9,
   "id": "715d4551",
   "metadata": {},
   "outputs": [
    {
     "name": "stdout",
     "output_type": "stream",
     "text": [
      "day1    230\n",
      "day2    345\n",
      "day3    334\n",
      "dtype: int64\n"
     ]
    }
   ],
   "source": [
    "\n",
    "# Here the keys of the dictionary becomes the label\n",
    "import pandas as pd\n",
    "calories = {'day1':230, 'day2':345, 'day3':334}\n",
    "myvar = pd.Series(calories)\n",
    "print(myvar)"
   ]
  },
  {
   "cell_type": "markdown",
   "id": "547441b2",
   "metadata": {},
   "source": [
    "## DataFrames\n",
    "\n",
    "Data sets in Pandas are usually multi-dimensional tables, called DataFrames.\n",
    "\n",
    "A pandas DataFrame is a 2 dimensional data structure, lika a 2-D array, or a table with rows and columns.\n",
    "\n",
    "Series is like a column, a DataFrame is the whole table."
   ]
  },
  {
   "cell_type": "code",
   "execution_count": 11,
   "id": "bf3541d3",
   "metadata": {},
   "outputs": [
    {
     "name": "stdout",
     "output_type": "stream",
     "text": [
      "   calories  duration\n",
      "0       122        43\n",
      "1       243        22\n",
      "2       453        13\n"
     ]
    }
   ],
   "source": [
    "# Creating DataFrame from two Series\n",
    "import pandas as pd\n",
    "\n",
    "data = {\n",
    "    \"calories\":[122,243,453],\n",
    "    \"duration\":[43,22,13]\n",
    "}\n",
    "\n",
    "# Load data into a DataFrame Object:\n",
    "myvar = pd.DataFrame(data)\n",
    "print(myvar)"
   ]
  },
  {
   "cell_type": "markdown",
   "id": "1ad07175",
   "metadata": {},
   "source": [
    "## Locate Row\n",
    "\n",
    "Pandas use the loc attribute to return one or more specified rows\n"
   ]
  },
  {
   "cell_type": "code",
   "execution_count": 13,
   "id": "58ed1ece",
   "metadata": {},
   "outputs": [
    {
     "name": "stdout",
     "output_type": "stream",
     "text": [
      "calories    122\n",
      "duration     43\n",
      "Name: 0, dtype: int64\n"
     ]
    }
   ],
   "source": [
    "print(myvar.loc[0])"
   ]
  },
  {
   "cell_type": "code",
   "execution_count": 15,
   "id": "71d8e97d",
   "metadata": {},
   "outputs": [
    {
     "name": "stdout",
     "output_type": "stream",
     "text": [
      "   calories  duration\n",
      "0       122        43\n",
      "1       243        22\n"
     ]
    }
   ],
   "source": [
    "# use a list of indexes:\n",
    "print(myvar.loc[[0,1]])\n",
    "\n",
    "\n",
    "# NOTE : When using [], the result is a Pandas DataFrame"
   ]
  },
  {
   "cell_type": "markdown",
   "id": "338a1379",
   "metadata": {},
   "source": [
    "### Named Indexes\n",
    "\n",
    "With the index argument, we can name our own indexes.\n"
   ]
  },
  {
   "cell_type": "code",
   "execution_count": 17,
   "id": "d5c33ca2",
   "metadata": {},
   "outputs": [
    {
     "name": "stdout",
     "output_type": "stream",
     "text": [
      "      calories  duration\n",
      "day1       122        43\n",
      "day2       243        22\n",
      "day3       453        13\n"
     ]
    }
   ],
   "source": [
    "import pandas as pd\n",
    "\n",
    "data = {\n",
    "    \"calories\":[122,243,453],\n",
    "    \"duration\":[43,22,13]\n",
    "}\n",
    "\n",
    "# Load data into a DataFrame Object:\n",
    "myvar = pd.DataFrame(data, index = ['day1','day2','day3'])\n",
    "print(myvar)"
   ]
  },
  {
   "cell_type": "code",
   "execution_count": 18,
   "id": "d69ddf4b",
   "metadata": {},
   "outputs": [
    {
     "name": "stdout",
     "output_type": "stream",
     "text": [
      "calories    243\n",
      "duration     22\n",
      "Name: day2, dtype: int64\n"
     ]
    }
   ],
   "source": [
    "# WE can locate the data by passing index name in loc function\\\n",
    "print(myvar.loc['day2'])"
   ]
  },
  {
   "cell_type": "markdown",
   "id": "e753e7c3",
   "metadata": {},
   "source": [
    "# load files  into a DataFrame\n",
    "\n",
    "If data sets are stored in a file, Pandas can load them into a DataFrame.\n",
    "\n",
    "## Read CSV Files\n",
    "\n",
    "A simple way to store big data sets is to use CSV (comma separated files).\n",
    "\n"
   ]
  },
  {
   "cell_type": "code",
   "execution_count": 20,
   "id": "8eb528d6",
   "metadata": {},
   "outputs": [
    {
     "name": "stdout",
     "output_type": "stream",
     "text": [
      "            Time         V1         V2        V3        V4        V5  \\\n",
      "0            0.0  -1.359807  -0.072781  2.536347  1.378155 -0.338321   \n",
      "1            0.0   1.191857   0.266151  0.166480  0.448154  0.060018   \n",
      "2            1.0  -1.358354  -1.340163  1.773209  0.379780 -0.503198   \n",
      "3            1.0  -0.966272  -0.185226  1.792993 -0.863291 -0.010309   \n",
      "4            2.0  -1.158233   0.877737  1.548718  0.403034 -0.407193   \n",
      "...          ...        ...        ...       ...       ...       ...   \n",
      "284802  172786.0 -11.881118  10.071785 -9.834783 -2.066656 -5.364473   \n",
      "284803  172787.0  -0.732789  -0.055080  2.035030 -0.738589  0.868229   \n",
      "284804  172788.0   1.919565  -0.301254 -3.249640 -0.557828  2.630515   \n",
      "284805  172788.0  -0.240440   0.530483  0.702510  0.689799 -0.377961   \n",
      "284806  172792.0  -0.533413  -0.189733  0.703337 -0.506271 -0.012546   \n",
      "\n",
      "              V6        V7        V8        V9  ...       V21       V22  \\\n",
      "0       0.462388  0.239599  0.098698  0.363787  ... -0.018307  0.277838   \n",
      "1      -0.082361 -0.078803  0.085102 -0.255425  ... -0.225775 -0.638672   \n",
      "2       1.800499  0.791461  0.247676 -1.514654  ...  0.247998  0.771679   \n",
      "3       1.247203  0.237609  0.377436 -1.387024  ... -0.108300  0.005274   \n",
      "4       0.095921  0.592941 -0.270533  0.817739  ... -0.009431  0.798278   \n",
      "...          ...       ...       ...       ...  ...       ...       ...   \n",
      "284802 -2.606837 -4.918215  7.305334  1.914428  ...  0.213454  0.111864   \n",
      "284803  1.058415  0.024330  0.294869  0.584800  ...  0.214205  0.924384   \n",
      "284804  3.031260 -0.296827  0.708417  0.432454  ...  0.232045  0.578229   \n",
      "284805  0.623708 -0.686180  0.679145  0.392087  ...  0.265245  0.800049   \n",
      "284806 -0.649617  1.577006 -0.414650  0.486180  ...  0.261057  0.643078   \n",
      "\n",
      "             V23       V24       V25       V26       V27       V28  Amount  \\\n",
      "0      -0.110474  0.066928  0.128539 -0.189115  0.133558 -0.021053  149.62   \n",
      "1       0.101288 -0.339846  0.167170  0.125895 -0.008983  0.014724    2.69   \n",
      "2       0.909412 -0.689281 -0.327642 -0.139097 -0.055353 -0.059752  378.66   \n",
      "3      -0.190321 -1.175575  0.647376 -0.221929  0.062723  0.061458  123.50   \n",
      "4      -0.137458  0.141267 -0.206010  0.502292  0.219422  0.215153   69.99   \n",
      "...          ...       ...       ...       ...       ...       ...     ...   \n",
      "284802  1.014480 -0.509348  1.436807  0.250034  0.943651  0.823731    0.77   \n",
      "284803  0.012463 -1.016226 -0.606624 -0.395255  0.068472 -0.053527   24.79   \n",
      "284804 -0.037501  0.640134  0.265745 -0.087371  0.004455 -0.026561   67.88   \n",
      "284805 -0.163298  0.123205 -0.569159  0.546668  0.108821  0.104533   10.00   \n",
      "284806  0.376777  0.008797 -0.473649 -0.818267 -0.002415  0.013649  217.00   \n",
      "\n",
      "        Class  \n",
      "0           0  \n",
      "1           0  \n",
      "2           0  \n",
      "3           0  \n",
      "4           0  \n",
      "...       ...  \n",
      "284802      0  \n",
      "284803      0  \n",
      "284804      0  \n",
      "284805      0  \n",
      "284806      0  \n",
      "\n",
      "[284807 rows x 31 columns]\n"
     ]
    }
   ],
   "source": [
    "# Loading the CSV into a DataFrame:\n",
    "import pandas as pd\n",
    "df = pd.read_csv('creditcard.csv')\n",
    "print(df)  # if we want to print entire dataset we use .to_string() function"
   ]
  },
  {
   "cell_type": "markdown",
   "id": "7de91434",
   "metadata": {},
   "source": [
    "## max_rows\n",
    "\n",
    "the number of rows returned is defined in Pandas option settings. we can check our system's maximum rows with the statement below:\n",
    "\n",
    "pd.options.display.max_rows"
   ]
  },
  {
   "cell_type": "code",
   "execution_count": 21,
   "id": "6e1058d1",
   "metadata": {},
   "outputs": [
    {
     "name": "stdout",
     "output_type": "stream",
     "text": [
      "60\n"
     ]
    }
   ],
   "source": [
    "import pandas as pd\n",
    "\n",
    "print(pd.options.display.max_rows) "
   ]
  },
  {
   "cell_type": "code",
   "execution_count": 23,
   "id": "cd997e2f",
   "metadata": {},
   "outputs": [
    {
     "name": "stdout",
     "output_type": "stream",
     "text": [
      "            Time        V1        V2        V3        V4        V5        V6  \\\n",
      "0            0.0 -1.359807 -0.072781  2.536347  1.378155 -0.338321  0.462388   \n",
      "...          ...       ...       ...       ...       ...       ...       ...   \n",
      "284806  172792.0 -0.533413 -0.189733  0.703337 -0.506271 -0.012546 -0.649617   \n",
      "\n",
      "              V7        V8        V9  ...       V21       V22       V23  \\\n",
      "0       0.239599  0.098698  0.363787  ... -0.018307  0.277838 -0.110474   \n",
      "...          ...       ...       ...  ...       ...       ...       ...   \n",
      "284806  1.577006 -0.414650  0.486180  ...  0.261057  0.643078  0.376777   \n",
      "\n",
      "             V24       V25       V26       V27       V28  Amount  Class  \n",
      "0       0.066928  0.128539 -0.189115  0.133558 -0.021053  149.62      0  \n",
      "...          ...       ...       ...       ...       ...     ...    ...  \n",
      "284806  0.008797 -0.473649 -0.818267 -0.002415  0.013649  217.00      0  \n",
      "\n",
      "[284807 rows x 31 columns]\n"
     ]
    }
   ],
   "source": [
    "# we can change the maximum rows number to display the entire Dataframe:\n",
    "import pandas as pd\n",
    "pd.options.display.max_rows = 2\n",
    "df = pd.read_csv('creditcard.csv')\n",
    "\n",
    "print(df)"
   ]
  },
  {
   "cell_type": "markdown",
   "id": "8be3d400",
   "metadata": {},
   "source": [
    "# Pandas Read JSON\n",
    "\n",
    "Big datasets are often stored, or extracted as JSON. JSON is plain text, but has the format of an object."
   ]
  },
  {
   "cell_type": "code",
   "execution_count": 27,
   "id": "9930355d",
   "metadata": {},
   "outputs": [
    {
     "name": "stdout",
     "output_type": "stream",
     "text": [
      "     Duration  Pulse  Maxpulse  Calories\n",
      "0          60    110       130     409.1\n",
      "1          60    117       145     479.0\n",
      "2          60    103       135     340.0\n",
      "3          45    109       175     282.4\n",
      "4          45    117       148     406.0\n",
      "..        ...    ...       ...       ...\n",
      "164        60    105       140     290.8\n",
      "165        60    110       145     300.4\n",
      "166        60    115       145     310.2\n",
      "167        75    120       150     320.4\n",
      "168        75    125       150     330.4\n",
      "\n",
      "[169 rows x 4 columns]\n"
     ]
    }
   ],
   "source": [
    "# loading the JSON file into a DataFrame:\n",
    "\n",
    "import pandas as pd\n",
    "df = pd.read_json('sample1.json')\n",
    "pd.options.display.max_rows = 60\n",
    "print(df)"
   ]
  },
  {
   "cell_type": "markdown",
   "id": "0037715b",
   "metadata": {},
   "source": [
    "## Dictionary as JSON\n",
    "\n",
    "JSON = Python Dictionary\n",
    "\n",
    "If our JSON code is not in a file, but in a Python Dictionary, we can load it into a DataFrame directly:\n"
   ]
  },
  {
   "cell_type": "code",
   "execution_count": 30,
   "id": "73db10f9",
   "metadata": {},
   "outputs": [
    {
     "name": "stdout",
     "output_type": "stream",
     "text": [
      "   Duration  Pulse  Maxpulse  Calories\n",
      "0        60    110       130       409\n",
      "1        60    117       145       479\n",
      "2        60    103       135       340\n",
      "3        45    109       175       282\n",
      "4        45    117       148       406\n",
      "5        60    102       127       300\n"
     ]
    }
   ],
   "source": [
    "# Load python Dictionary into a DataFrame:\n",
    "\n",
    "import pandas as pd\n",
    "data = {\n",
    "  \"Duration\":{\n",
    "    \"0\":60,\n",
    "    \"1\":60,\n",
    "    \"2\":60,\n",
    "    \"3\":45,\n",
    "    \"4\":45,\n",
    "    \"5\":60\n",
    "  },\n",
    "  \"Pulse\":{\n",
    "    \"0\":110,\n",
    "    \"1\":117,\n",
    "    \"2\":103,\n",
    "    \"3\":109,\n",
    "    \"4\":117,\n",
    "    \"5\":102\n",
    "  },\n",
    "  \"Maxpulse\":{\n",
    "    \"0\":130,\n",
    "    \"1\":145,\n",
    "    \"2\":135,\n",
    "    \"3\":175,\n",
    "    \"4\":148,\n",
    "    \"5\":127\n",
    "  },\n",
    "  \"Calories\":{\n",
    "    \"0\":409,\n",
    "    \"1\":479,\n",
    "    \"2\":340,\n",
    "    \"3\":282,\n",
    "    \"4\":406,\n",
    "    \"5\":300\n",
    "  }\n",
    "}\n",
    "\n",
    "df = pd.DataFrame(data)\n",
    "\n",
    "print(df) "
   ]
  },
  {
   "cell_type": "markdown",
   "id": "742c9a3d",
   "metadata": {},
   "source": [
    "# Viewing the Data\n",
    "\n",
    "One of the most used method for getting a quick overview of the DataFrame, is the head() method and tail() method. head() method returns top 5 rows from the DataFrame and tail() method returns bottom 5 rows from the DataFrame"
   ]
  },
  {
   "cell_type": "code",
   "execution_count": 34,
   "id": "38154397",
   "metadata": {},
   "outputs": [
    {
     "name": "stdout",
     "output_type": "stream",
     "text": [
      "   area   price\n",
      "0  2600  550000\n",
      "1  3000  565000\n",
      "2  3200  610000\n"
     ]
    }
   ],
   "source": [
    "import pandas as pd\n",
    "df = pd.read_csv('homeprices.csv')\n",
    "print(df.head(3))"
   ]
  },
  {
   "cell_type": "code",
   "execution_count": 33,
   "id": "cb5d27b2",
   "metadata": {},
   "outputs": [
    {
     "name": "stdout",
     "output_type": "stream",
     "text": [
      "   area   price\n",
      "3  3600  680000\n",
      "4  4000  725000\n"
     ]
    }
   ],
   "source": [
    "import pandas as pd\n",
    "df = pd.read_csv('homeprices.csv')\n",
    "print(df.tail(2))"
   ]
  },
  {
   "cell_type": "markdown",
   "id": "b9e0fb4b",
   "metadata": {},
   "source": [
    "## Info About the Data\n",
    "\n",
    "the DataFrames object has a method called info(), that gives you more informtion about the data set.\n",
    "\n",
    "\n",
    "## Result Explanation\n",
    "\n",
    "The result tells us there are 5 rows and 2 columns:\n",
    "\n",
    "And the name of each column, with the datatype.\n",
    "\n",
    "# Null Values\n",
    "\n",
    "The info() method also tells us how many Non-Null values there are present in each column, and in our data set it seems that there is no null value present\n",
    "\n"
   ]
  },
  {
   "cell_type": "code",
   "execution_count": 35,
   "id": "93a1d959",
   "metadata": {},
   "outputs": [
    {
     "name": "stdout",
     "output_type": "stream",
     "text": [
      "<class 'pandas.core.frame.DataFrame'>\n",
      "RangeIndex: 5 entries, 0 to 4\n",
      "Data columns (total 2 columns):\n",
      " #   Column  Non-Null Count  Dtype\n",
      "---  ------  --------------  -----\n",
      " 0   area    5 non-null      int64\n",
      " 1   price   5 non-null      int64\n",
      "dtypes: int64(2)\n",
      "memory usage: 208.0 bytes\n",
      "None\n"
     ]
    }
   ],
   "source": [
    "print(df.info())"
   ]
  },
  {
   "cell_type": "markdown",
   "id": "8da90f99",
   "metadata": {},
   "source": [
    "# Cleaning Data\n",
    "\n",
    "Data cleaning means fixing bad data in dataset. Bad data could be:\n",
    "1. Empty cells\n",
    "2. Data in wrong format\n",
    "3. Wrong data\n",
    "4. Duplicates\n",
    "\n",
    "## Empty Cells \n",
    "\n",
    "Empty cells can potentially give you a wrong result when you analyze data.\n",
    "\n",
    "## Remove Rows \n",
    "\n",
    "One ways to deal with empty cells is to remove rows that contain empty cells. \n",
    "\n",
    "This is okk for big datasets and removing a few rows not have a big impact on the result.\n",
    "\n",
    "## Replace Empty Values\n",
    "\n",
    "Another way of dealing with empty cells is to insert a new value instead.\n",
    "\n",
    "The fillna() method allows us to replace empty cells with a value:\n",
    "\n",
    "## Replace Using mean() median() and mode()"
   ]
  },
  {
   "cell_type": "code",
   "execution_count": 36,
   "id": "c8a2ef05",
   "metadata": {},
   "outputs": [
    {
     "name": "stdout",
     "output_type": "stream",
     "text": [
      "   area   price\n",
      "0  2600  550000\n",
      "1  3000  565000\n",
      "2  3200  610000\n",
      "3  3600  680000\n",
      "4  4000  725000\n"
     ]
    }
   ],
   "source": [
    "# returns a new DataFrame with no empty cells:\n",
    "import pandas as pd\n",
    "df = pd.read_csv('homeprices.csv')\n",
    "new_df = df.dropna()\n",
    "print(new_df.to_string())\n",
    "\n",
    "# By defalut, the dropna() method returns a new DataFrame, and will not change the original.\n"
   ]
  },
  {
   "cell_type": "code",
   "execution_count": 37,
   "id": "01905924",
   "metadata": {},
   "outputs": [
    {
     "name": "stdout",
     "output_type": "stream",
     "text": [
      "   area   price\n",
      "0  2600  550000\n",
      "1  3000  565000\n",
      "2  3200  610000\n",
      "3  3600  680000\n",
      "4  4000  725000\n"
     ]
    }
   ],
   "source": [
    "# if we want change original DataFrame, use th inplace = Ture argument:\n",
    "import pandas as pd\n",
    "df = pd.read_csv('homeprices.csv')\n",
    "df.dropna(inplace = True)\n",
    "print(new_df.to_string())\n"
   ]
  },
  {
   "cell_type": "code",
   "execution_count": 41,
   "id": "dbe05079",
   "metadata": {},
   "outputs": [
    {
     "name": "stdout",
     "output_type": "stream",
     "text": [
      "   Duration  Pulse  Maxpulse  Calories\n",
      "0      60.0  110.0     130.0     409.0\n",
      "1      60.0  117.0     145.0     479.0\n",
      "2      60.0  103.0     130.0     340.0\n",
      "3      45.0  109.0     175.0     282.0\n",
      "4      45.0  117.0     148.0     406.0\n",
      "5      60.0  102.0     127.0     300.0\n",
      "8     130.0  130.0     135.0     130.0\n"
     ]
    }
   ],
   "source": [
    "# Replace Empty Values with 130 using fillna() method\n",
    "import pandas as pd\n",
    "data = {\n",
    "  \"Duration\":{\n",
    "    \"0\":60,\n",
    "    \"1\":60,\n",
    "    \"2\":60,\n",
    "    \"3\":45,\n",
    "    \"4\":45,\n",
    "    \"5\":60\n",
    "  },\n",
    "  \"Pulse\":{\n",
    "    \"0\":110,\n",
    "    \"1\":117,\n",
    "    \"2\":103,\n",
    "    \"3\":109,\n",
    "    \"4\":117,\n",
    "    \"5\":102\n",
    "  },\n",
    "  \"Maxpulse\":{\n",
    "    \"0\":130,\n",
    "    \"1\":145,\n",
    "    \"8\":135,\n",
    "    \"3\":175,\n",
    "    \"4\":148,\n",
    "    \"5\":127\n",
    "  },\n",
    "  \"Calories\":{\n",
    "    \"0\":409,\n",
    "    \"1\":479,\n",
    "    \"2\":340,\n",
    "    \"3\":282,\n",
    "    \"4\":406,\n",
    "    \"5\":300\n",
    "  }\n",
    "}\n",
    "\n",
    "df = pd.DataFrame(data)\n",
    "df.fillna(130,inplace = True)\n",
    "\n",
    "print(df) "
   ]
  },
  {
   "cell_type": "code",
   "execution_count": 42,
   "id": "988b9634",
   "metadata": {},
   "outputs": [
    {
     "name": "stdout",
     "output_type": "stream",
     "text": [
      "   Duration  Pulse  Maxpulse  Calories\n",
      "0      60.0  110.0     130.0     409.0\n",
      "1      60.0  117.0     145.0     479.0\n",
      "2      60.0  103.0       NaN     340.0\n",
      "3      45.0  109.0     175.0     282.0\n",
      "4      45.0  117.0     148.0     406.0\n",
      "5      60.0  102.0     127.0     300.0\n",
      "8     130.0    NaN     135.0       NaN\n"
     ]
    }
   ],
   "source": [
    "# Replace Only for Specified Columns\n",
    "# Replace Empty Values with 130 using fillna() method\n",
    "import pandas as pd\n",
    "data = {\n",
    "  \"Duration\":{\n",
    "    \"0\":60,\n",
    "    \"1\":60,\n",
    "    \"2\":60,\n",
    "    \"3\":45,\n",
    "    \"4\":45,\n",
    "    \"5\":60\n",
    "  },\n",
    "  \"Pulse\":{\n",
    "    \"0\":110,\n",
    "    \"1\":117,\n",
    "    \"2\":103,\n",
    "    \"3\":109,\n",
    "    \"4\":117,\n",
    "    \"5\":102\n",
    "  },\n",
    "  \"Maxpulse\":{\n",
    "    \"0\":130,\n",
    "    \"1\":145,\n",
    "    \"8\":135,\n",
    "    \"3\":175,\n",
    "    \"4\":148,\n",
    "    \"5\":127\n",
    "  },\n",
    "  \"Calories\":{\n",
    "    \"0\":409,\n",
    "    \"1\":479,\n",
    "    \"2\":340,\n",
    "    \"3\":282,\n",
    "    \"4\":406,\n",
    "    \"5\":300\n",
    "  }\n",
    "}\n",
    "\n",
    "df = pd.DataFrame(data)\n",
    "df['Duration'].fillna(130,inplace = True)\n",
    "\n",
    "print(df) "
   ]
  },
  {
   "cell_type": "code",
   "execution_count": 49,
   "id": "96bdebf4",
   "metadata": {},
   "outputs": [
    {
     "name": "stdout",
     "output_type": "stream",
     "text": [
      "   Duration  Pulse  Maxpulse  Calories\n",
      "0      60.0  110.0     130.0     409.0\n",
      "1      60.0  117.0     145.0     409.0\n",
      "2      60.0  103.0       NaN     340.0\n",
      "3      45.0  109.0     175.0     282.0\n",
      "4      45.0  117.0     148.0     406.0\n",
      "5      60.0  102.0     127.0     300.0\n",
      "8      55.0  109.5     135.0     409.0\n"
     ]
    }
   ],
   "source": [
    "# replace value with duration with (mean), Pulse with (median), and Calories with (mode) \n",
    "\n",
    "# Replace Empty Values with 130 using fillna() method\n",
    "import pandas as pd\n",
    "data = {\n",
    "  \"Duration\":{\n",
    "    \"0\":60,\n",
    "    \"1\":60,\n",
    "    \"2\":60,\n",
    "    \"3\":45,\n",
    "    \"4\":45,\n",
    "    \"5\":60\n",
    "  },\n",
    "  \"Pulse\":{\n",
    "    \"0\":110,\n",
    "    \"1\":117,\n",
    "    \"2\":103,\n",
    "    \"3\":109,\n",
    "    \"4\":117,\n",
    "    \"5\":102\n",
    "  },\n",
    "  \"Maxpulse\":{\n",
    "    \"0\":130,\n",
    "    \"1\":145,\n",
    "    \"8\":135,\n",
    "    \"3\":175,\n",
    "    \"4\":148,\n",
    "    \"5\":127\n",
    "  },\n",
    "  \"Calories\":{\n",
    "    \"0\":409,\n",
    "    \"1\":409,\n",
    "    \"2\":340,\n",
    "    \"3\":282,\n",
    "    \"4\":406,\n",
    "    \"5\":300\n",
    "  }\n",
    "}\n",
    "\n",
    "df = pd.DataFrame(data)\n",
    "# Mean()\n",
    "x = df['Duration'].mean()\n",
    "df['Duration'].fillna(x,inplace = True)\n",
    "# Median()\n",
    "x = df['Pulse'].median()\n",
    "df['Pulse'].fillna(x,inplace = True)\n",
    "# Mode()\n",
    "x = df['Calories'].mode()[0]\n",
    "df['Calories'].fillna(x,inplace = True)\n",
    "\n",
    "print(df) "
   ]
  },
  {
   "cell_type": "markdown",
   "id": "96fc281c",
   "metadata": {},
   "source": [
    "# Cleaning Data of Wrong Format\n",
    "\n",
    "1. Convert Into a Correct Format like to_datetime():\n",
    "\n",
    "Convert to date:\n",
    "\n",
    "import pandas as pd\n",
    "\n",
    "df = pd.read_csv('data.csv')\n",
    "\n",
    "df['Date'] = pd.to_datetime(df['Date'])\n",
    "\n",
    "print(df.to_string())\n",
    "\n",
    "\n",
    "2. Removing Rows using dropna():\n",
    "\n",
    "df.dropna(subset=['Date'], inplace = True)"
   ]
  },
  {
   "cell_type": "markdown",
   "id": "3a4903bf",
   "metadata": {},
   "source": [
    "# Fixing Wrong Data\n",
    "\n",
    "Wrong data\" does not have to be \"empty cells\" or \"wrong format\", it can just be wrong, like if someone registered \"199\" instead of \"1.99\"\n",
    "\n",
    "## Replacing Values\n",
    "\n",
    "for small dataset :df.loc[7, 'Duration'] = 45\n",
    "\n",
    "for larger dataset: \n",
    "\n",
    "for x in df.index:\n",
    "\n",
    "  if df.loc[x, \"Duration\"] > 120:\n",
    "  \n",
    "    df.loc[x, \"Duration\"] = 120\n",
    "\n",
    "## Removing Rows\n",
    "\n",
    "\n",
    "for x in df.index:\n",
    "\n",
    "  if df.loc[x, \"Duration\"] > 120:\n",
    "  \n",
    "    df.drop(x, inplace = True)\n"
   ]
  },
  {
   "cell_type": "code",
   "execution_count": 55,
   "id": "0485babc",
   "metadata": {},
   "outputs": [
    {
     "name": "stdout",
     "output_type": "stream",
     "text": [
      "0    False\n",
      "1    False\n",
      "2    False\n",
      "3     True\n",
      "4    False\n",
      "5    False\n",
      "dtype: bool\n"
     ]
    }
   ],
   "source": [
    "# Pandas Detecting Duplicates in datasets \n",
    "\n",
    "import pandas as pd\n",
    "data = {\n",
    "  \"Duration\":{\n",
    "    \"0\":60,\n",
    "    \"1\":60,\n",
    "    \"2\":135,\n",
    "    \"3\":135,\n",
    "    \"4\":45,\n",
    "    \"5\":60\n",
    "  },\n",
    "  \"Pulse\":{\n",
    "    \"0\":110,\n",
    "    \"1\":117,\n",
    "    \"2\":135,\n",
    "    \"3\":135,\n",
    "    \"4\":117,\n",
    "    \"5\":102\n",
    "  },\n",
    "  \"Maxpulse\":{\n",
    "    \"0\":130,\n",
    "    \"1\":145,\n",
    "    \"2\":135,\n",
    "    \"3\":135,\n",
    "    \"4\":135,\n",
    "    \"5\":127\n",
    "  },\n",
    "  \"Calories\":{\n",
    "    \"0\":409,\n",
    "    \"1\":479,\n",
    "    \"2\":135,\n",
    "    \"3\":135,\n",
    "    \"4\":406,\n",
    "    \"5\":300\n",
    "  }\n",
    "}\n",
    "\n",
    "df = pd.DataFrame(data)\n",
    "\n",
    "print(df.duplicated())"
   ]
  },
  {
   "cell_type": "code",
   "execution_count": 56,
   "id": "742c4573",
   "metadata": {},
   "outputs": [],
   "source": [
    "# Removing Duplicates using drop_duplicates() method.\n",
    "\n",
    "df.drop_duplicates (inplace = True)"
   ]
  },
  {
   "cell_type": "code",
   "execution_count": 57,
   "id": "81d059c7",
   "metadata": {},
   "outputs": [
    {
     "data": {
      "text/html": [
       "<div>\n",
       "<style scoped>\n",
       "    .dataframe tbody tr th:only-of-type {\n",
       "        vertical-align: middle;\n",
       "    }\n",
       "\n",
       "    .dataframe tbody tr th {\n",
       "        vertical-align: top;\n",
       "    }\n",
       "\n",
       "    .dataframe thead th {\n",
       "        text-align: right;\n",
       "    }\n",
       "</style>\n",
       "<table border=\"1\" class=\"dataframe\">\n",
       "  <thead>\n",
       "    <tr style=\"text-align: right;\">\n",
       "      <th></th>\n",
       "      <th>Duration</th>\n",
       "      <th>Pulse</th>\n",
       "      <th>Maxpulse</th>\n",
       "      <th>Calories</th>\n",
       "    </tr>\n",
       "  </thead>\n",
       "  <tbody>\n",
       "    <tr>\n",
       "      <th>0</th>\n",
       "      <td>60</td>\n",
       "      <td>110</td>\n",
       "      <td>130</td>\n",
       "      <td>409</td>\n",
       "    </tr>\n",
       "    <tr>\n",
       "      <th>1</th>\n",
       "      <td>60</td>\n",
       "      <td>117</td>\n",
       "      <td>145</td>\n",
       "      <td>479</td>\n",
       "    </tr>\n",
       "    <tr>\n",
       "      <th>2</th>\n",
       "      <td>135</td>\n",
       "      <td>135</td>\n",
       "      <td>135</td>\n",
       "      <td>135</td>\n",
       "    </tr>\n",
       "    <tr>\n",
       "      <th>4</th>\n",
       "      <td>45</td>\n",
       "      <td>117</td>\n",
       "      <td>135</td>\n",
       "      <td>406</td>\n",
       "    </tr>\n",
       "    <tr>\n",
       "      <th>5</th>\n",
       "      <td>60</td>\n",
       "      <td>102</td>\n",
       "      <td>127</td>\n",
       "      <td>300</td>\n",
       "    </tr>\n",
       "  </tbody>\n",
       "</table>\n",
       "</div>"
      ],
      "text/plain": [
       "   Duration  Pulse  Maxpulse  Calories\n",
       "0        60    110       130       409\n",
       "1        60    117       145       479\n",
       "2       135    135       135       135\n",
       "4        45    117       135       406\n",
       "5        60    102       127       300"
      ]
     },
     "execution_count": 57,
     "metadata": {},
     "output_type": "execute_result"
    }
   ],
   "source": [
    "df"
   ]
  },
  {
   "cell_type": "markdown",
   "id": "3b13800e",
   "metadata": {},
   "source": [
    "# Finding Relationships using corr() method\n",
    "\n",
    "the corr() method ignores \"not numeric\" columns\n",
    "1. The good correlation depends onthe use, but for best you have to have at lease 0.6 (or -0.6) to call it a good corelation.\n",
    "\n",
    "## Result Explained\n",
    "\n",
    "The number varies from -1 to 1 .\n",
    "1. 1 means that there is a 1 to 1 relationship ( a perfect correlation)\n",
    "2. 0.9 is also a good relationship, and if you increase one value, the other will probable increase as well.\n",
    "3. -0.9 would be just as good relationship as 0.9, but if you increase one value the other will probable go down.\n",
    "4. 0.2 means NOT a good relationship, "
   ]
  },
  {
   "cell_type": "code",
   "execution_count": 58,
   "id": "246cd3fb",
   "metadata": {},
   "outputs": [
    {
     "data": {
      "text/html": [
       "<div>\n",
       "<style scoped>\n",
       "    .dataframe tbody tr th:only-of-type {\n",
       "        vertical-align: middle;\n",
       "    }\n",
       "\n",
       "    .dataframe tbody tr th {\n",
       "        vertical-align: top;\n",
       "    }\n",
       "\n",
       "    .dataframe thead th {\n",
       "        text-align: right;\n",
       "    }\n",
       "</style>\n",
       "<table border=\"1\" class=\"dataframe\">\n",
       "  <thead>\n",
       "    <tr style=\"text-align: right;\">\n",
       "      <th></th>\n",
       "      <th>Duration</th>\n",
       "      <th>Pulse</th>\n",
       "      <th>Maxpulse</th>\n",
       "      <th>Calories</th>\n",
       "    </tr>\n",
       "  </thead>\n",
       "  <tbody>\n",
       "    <tr>\n",
       "      <th>Duration</th>\n",
       "      <td>1.000000</td>\n",
       "      <td>0.800319</td>\n",
       "      <td>0.036736</td>\n",
       "      <td>-0.870256</td>\n",
       "    </tr>\n",
       "    <tr>\n",
       "      <th>Pulse</th>\n",
       "      <td>0.800319</td>\n",
       "      <td>1.000000</td>\n",
       "      <td>0.457316</td>\n",
       "      <td>-0.542837</td>\n",
       "    </tr>\n",
       "    <tr>\n",
       "      <th>Maxpulse</th>\n",
       "      <td>0.036736</td>\n",
       "      <td>0.457316</td>\n",
       "      <td>1.000000</td>\n",
       "      <td>0.376818</td>\n",
       "    </tr>\n",
       "    <tr>\n",
       "      <th>Calories</th>\n",
       "      <td>-0.870256</td>\n",
       "      <td>-0.542837</td>\n",
       "      <td>0.376818</td>\n",
       "      <td>1.000000</td>\n",
       "    </tr>\n",
       "  </tbody>\n",
       "</table>\n",
       "</div>"
      ],
      "text/plain": [
       "          Duration     Pulse  Maxpulse  Calories\n",
       "Duration  1.000000  0.800319  0.036736 -0.870256\n",
       "Pulse     0.800319  1.000000  0.457316 -0.542837\n",
       "Maxpulse  0.036736  0.457316  1.000000  0.376818\n",
       "Calories -0.870256 -0.542837  0.376818  1.000000"
      ]
     },
     "execution_count": 58,
     "metadata": {},
     "output_type": "execute_result"
    }
   ],
   "source": [
    "df.corr()"
   ]
  },
  {
   "cell_type": "markdown",
   "id": "3f1f3ab7",
   "metadata": {},
   "source": [
    "# Pandas - Plotting\n",
    "Pandas uses the plot() method to create diagrams.\n",
    "1. We can use Pyplot, a submodule of the matplotlib library to visualize the diagram on the screen.\n",
    "\n",
    "\n",
    "## Scatter Plot\n",
    "\n",
    "Specify that you want a scatter plot with the kind argument:\n",
    "\n",
    "kind = 'scatter'\n",
    "\n",
    "A scatter plot needs on x-and a y-axis.\n",
    "\n",
    "example: x = 'Duration', y = 'Calories'\n",
    "\n",
    "## Histogram \n",
    " Use kind = 'hist'\n",
    "\n",
    "A histogram needs only one column. A histogram show us the frequency of each interval, eg. how many workouts lasted between 50 and 60 minutes?"
   ]
  },
  {
   "cell_type": "code",
   "execution_count": 59,
   "id": "1e6db73f",
   "metadata": {},
   "outputs": [
    {
     "data": {
      "image/png": "[encoded data removed]",
      "text/plain": [
       "<Figure size 640x480 with 1 Axes>"
      ]
     },
     "metadata": {},
     "output_type": "display_data"
    }
   ],
   "source": [
    "import pandas as pd\n",
    "import matplotlib.pyplot as plt\n",
    "\n",
    "df.plot()\n",
    "plt.show()"
   ]
  },
  {
   "cell_type": "code",
   "execution_count": 60,
   "id": "0078c2ff",
   "metadata": {},
   "outputs": [
    {
     "data": {
      "image/png": "[encoded data removed]",
      "text/plain": [
       "<Figure size 640x480 with 1 Axes>"
      ]
     },
     "metadata": {},
     "output_type": "display_data"
    }
   ],
   "source": [
    "df.plot(kind='scatter',x='Duration',y = 'Calories')\n",
    "plt.show()"
   ]
  },
  {
   "cell_type": "code",
   "execution_count": 61,
   "id": "a4d3d4b7",
   "metadata": {},
   "outputs": [
    {
     "data": {
      "image/png": "[encoded data removed]",
      "text/plain": [
       "<Figure size 640x480 with 1 Axes>"
      ]
     },
     "metadata": {},
     "output_type": "display_data"
    }
   ],
   "source": [
    "df.plot(kind = 'scatter', x = 'Duration', y = 'Maxpulse')\n",
    "\n",
    "plt.show()"
   ]
  },
  {
   "cell_type": "code",
   "execution_count": 62,
   "id": "e30b234b",
   "metadata": {},
   "outputs": [
    {
     "data": {
      "text/plain": [
       "<AxesSubplot:ylabel='Frequency'>"
      ]
     },
     "execution_count": 62,
     "metadata": {},
     "output_type": "execute_result"
    },
    {
     "data": {
      "image/png": "[encoded data removed]",
      "text/plain": [
       "<Figure size 640x480 with 1 Axes>"
      ]
     },
     "metadata": {},
     "output_type": "display_data"
    }
   ],
   "source": [
    "df[\"Duration\"].plot(kind = 'hist')"
   ]
  },
  {
   "cell_type": "code",
   "execution_count": null,
   "id": "1f17a3a5",
   "metadata": {},
   "outputs": [],
   "source": []
  }
 ],
 "metadata": {
  "kernelspec": {
   "display_name": "Python 3 (ipykernel)",
   "language": "python",
   "name": "python3"
  },
  "language_info": {
   "codemirror_mode": {
    "name": "ipython",
    "version": 3
   },
   "file_extension": ".py",
   "mimetype": "text/x-python",
   "name": "python",
   "nbconvert_exporter": "python",
   "pygments_lexer": "ipython3",
   "version": "3.9.13"
  }
 },
 "nbformat": 4,
 "nbformat_minor": 5
}
